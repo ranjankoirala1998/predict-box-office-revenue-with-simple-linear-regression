{
 "metadata": {
  "language_info": {
   "codemirror_mode": {
    "name": "ipython",
    "version": 3
   },
   "file_extension": ".py",
   "mimetype": "text/x-python",
   "name": "python",
   "nbconvert_exporter": "python",
   "pygments_lexer": "ipython3",
   "version": "3.8.10"
  },
  "orig_nbformat": 2,
  "kernelspec": {
   "name": "python3810jvsc74a57bd0a7731c65511d2c92ca692b0c2b6bee9ac07e3aa89ccaecc750bda904445af51d",
   "display_name": "Python 3.8.10 64-bit ('env')"
  },
  "metadata": {
   "interpreter": {
    "hash": "a7731c65511d2c92ca692b0c2b6bee9ac07e3aa89ccaecc750bda904445af51d"
   }
  }
 },
 "nbformat": 4,
 "nbformat_minor": 2,
 "cells": [
  {
   "cell_type": "code",
   "execution_count": 1,
   "metadata": {},
   "outputs": [],
   "source": [
    "from bs4 import BeautifulSoup\n",
    "import pandas as pd\n",
    "import requests"
   ]
  },
  {
   "cell_type": "code",
   "execution_count": 2,
   "metadata": {
    "tags": []
   },
   "outputs": [],
   "source": [
    "def initialize_dataset(addr = \"https://www.the-numbers.com/movie/budgets/all\") :\n",
    "    page = requests.get(addr)\n",
    "    soup = BeautifulSoup(page.content, 'lxml')\n",
    "    table = soup.find(\"table\")\n",
    "    cols = []\n",
    "    for item in table.find_all(\"th\"):\n",
    "        cols.append(item.text)\n",
    "        cols[0] = 'Rank'\n",
    "        \n",
    "    df = pd.DataFrame(columns= cols)\n",
    "    return (df, cols)\n",
    "\n",
    "def get_table_values(df, cols, addr = \"https://www.the-numbers.com/movie/budgets/all\") :\n",
    "    page = requests.get(addr)\n",
    "    soup = BeautifulSoup(page.content, 'lxml')\n",
    "    table = soup.find(\"table\")\n",
    "    \n",
    "    for row in table.find_all('tr'):\n",
    "        values = [[data.text for data in row.find_all('td')]]\n",
    "        try:\n",
    "            df = df.append(pd.DataFrame(values, columns= cols))\n",
    "        except : \n",
    "            continue\n",
    "    return df\n",
    "\n",
    "df, cols = initialize_dataset()\n",
    "dataset = get_table_values(df, cols)\n",
    "\n",
    "visited = [\"https://www.the-numbers.com/movie/budgets/all\"]\n",
    "\n",
    "flag = True\n",
    "while flag :\n",
    "    url = visited [-1]\n",
    "    page = requests.get(url)\n",
    "\n",
    "    soup = BeautifulSoup(page.content, 'lxml')\n",
    "\n",
    "    pagination = soup.find(\"div\", {\"class\" : \"pagination\"})\n",
    "    for next in pagination.find_all(\"a\", {\"rel\" : \"nofollow\"}) :\n",
    "        next_page = \"https://www.the-numbers.com\" + next['href']\n",
    "        if next_page not in visited:\n",
    "            dataset = get_table_values(dataset, cols, next_page)\n",
    "            visited.append(next_page)\n",
    "\n",
    "    if url == 'https://www.the-numbers.com/movie/budgets/all/6101' :\n",
    "        flag = False\n",
    "\n",
    "dataset.to_csv('datasets/budget_income.csv', index= False)"
   ]
  },
  {
   "cell_type": "code",
   "execution_count": null,
   "metadata": {},
   "outputs": [],
   "source": []
  }
 ]
}