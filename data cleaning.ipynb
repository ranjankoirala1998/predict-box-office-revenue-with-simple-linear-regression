{
 "metadata": {
  "language_info": {
   "codemirror_mode": {
    "name": "ipython",
    "version": 3
   },
   "file_extension": ".py",
   "mimetype": "text/x-python",
   "name": "python",
   "nbconvert_exporter": "python",
   "pygments_lexer": "ipython3",
   "version": "3.8.10"
  },
  "orig_nbformat": 2,
  "kernelspec": {
   "name": "python3810jvsc74a57bd0a7731c65511d2c92ca692b0c2b6bee9ac07e3aa89ccaecc750bda904445af51d",
   "display_name": "Python 3.8.10 64-bit ('env')"
  }
 },
 "nbformat": 4,
 "nbformat_minor": 2,
 "cells": [
  {
   "cell_type": "code",
   "execution_count": 1,
   "metadata": {},
   "outputs": [],
   "source": [
    "import pandas as pd"
   ]
  },
  {
   "cell_type": "code",
   "execution_count": 2,
   "metadata": {},
   "outputs": [],
   "source": [
    "df = pd.read_csv('datasets/budget_income.csv')"
   ]
  },
  {
   "cell_type": "code",
   "execution_count": 3,
   "metadata": {},
   "outputs": [
    {
     "output_type": "execute_result",
     "data": {
      "text/plain": [
       "  Rank   ReleaseDate                                        Movie  \\\n",
       "0    1  Apr 23, 2019                            Avengers: Endgame   \n",
       "1    2  May 20, 2011  Pirates of the Caribbean: On Stranger Tides   \n",
       "2    3  Apr 22, 2015                      Avengers: Age of Ultron   \n",
       "3    4  Dec 16, 2015         Star Wars Ep. VII: The Force Awakens   \n",
       "4    5  Apr 25, 2018                       Avengers: Infinity War   \n",
       "\n",
       "  ProductionBudget  DomesticGross   WorldwideGross  \n",
       "0     $400,000,000   $858,373,000   $2,797,800,564  \n",
       "1     $379,000,000   $241,071,802   $1,045,713,802  \n",
       "2     $365,000,000   $459,005,868   $1,395,316,979  \n",
       "3     $306,000,000   $936,662,225   $2,065,478,084  \n",
       "4     $300,000,000   $678,815,482   $2,044,540,523  "
      ],
      "text/html": "<div>\n<style scoped>\n    .dataframe tbody tr th:only-of-type {\n        vertical-align: middle;\n    }\n\n    .dataframe tbody tr th {\n        vertical-align: top;\n    }\n\n    .dataframe thead th {\n        text-align: right;\n    }\n</style>\n<table border=\"1\" class=\"dataframe\">\n  <thead>\n    <tr style=\"text-align: right;\">\n      <th></th>\n      <th>Rank</th>\n      <th>ReleaseDate</th>\n      <th>Movie</th>\n      <th>ProductionBudget</th>\n      <th>DomesticGross</th>\n      <th>WorldwideGross</th>\n    </tr>\n  </thead>\n  <tbody>\n    <tr>\n      <th>0</th>\n      <td>1</td>\n      <td>Apr 23, 2019</td>\n      <td>Avengers: Endgame</td>\n      <td>$400,000,000</td>\n      <td>$858,373,000</td>\n      <td>$2,797,800,564</td>\n    </tr>\n    <tr>\n      <th>1</th>\n      <td>2</td>\n      <td>May 20, 2011</td>\n      <td>Pirates of the Caribbean: On Stranger Tides</td>\n      <td>$379,000,000</td>\n      <td>$241,071,802</td>\n      <td>$1,045,713,802</td>\n    </tr>\n    <tr>\n      <th>2</th>\n      <td>3</td>\n      <td>Apr 22, 2015</td>\n      <td>Avengers: Age of Ultron</td>\n      <td>$365,000,000</td>\n      <td>$459,005,868</td>\n      <td>$1,395,316,979</td>\n    </tr>\n    <tr>\n      <th>3</th>\n      <td>4</td>\n      <td>Dec 16, 2015</td>\n      <td>Star Wars Ep. VII: The Force Awakens</td>\n      <td>$306,000,000</td>\n      <td>$936,662,225</td>\n      <td>$2,065,478,084</td>\n    </tr>\n    <tr>\n      <th>4</th>\n      <td>5</td>\n      <td>Apr 25, 2018</td>\n      <td>Avengers: Infinity War</td>\n      <td>$300,000,000</td>\n      <td>$678,815,482</td>\n      <td>$2,044,540,523</td>\n    </tr>\n  </tbody>\n</table>\n</div>"
     },
     "metadata": {},
     "execution_count": 3
    }
   ],
   "source": [
    "df.head()"
   ]
  },
  {
   "cell_type": "code",
   "execution_count": 4,
   "metadata": {},
   "outputs": [],
   "source": [
    "def clean(x):\n",
    "    return(x.replace('$', '').replace(',', ''))\n",
    "\n",
    "df['ProductionBudget'] = df['ProductionBudget'].apply(clean).astype(float)\n",
    "df['DomesticGross'] = df['DomesticGross'].apply(clean).astype(float)\n",
    "df['WorldwideGross'] = df['WorldwideGross'].apply(clean).astype(float)"
   ]
  },
  {
   "cell_type": "code",
   "execution_count": 5,
   "metadata": {},
   "outputs": [
    {
     "output_type": "execute_result",
     "data": {
      "text/plain": [
       "  Rank   ReleaseDate                                        Movie  \\\n",
       "0    1  Apr 23, 2019                            Avengers: Endgame   \n",
       "1    2  May 20, 2011  Pirates of the Caribbean: On Stranger Tides   \n",
       "2    3  Apr 22, 2015                      Avengers: Age of Ultron   \n",
       "3    4  Dec 16, 2015         Star Wars Ep. VII: The Force Awakens   \n",
       "4    5  Apr 25, 2018                       Avengers: Infinity War   \n",
       "\n",
       "   ProductionBudget  DomesticGross  WorldwideGross  \n",
       "0       400000000.0    858373000.0    2.797801e+09  \n",
       "1       379000000.0    241071802.0    1.045714e+09  \n",
       "2       365000000.0    459005868.0    1.395317e+09  \n",
       "3       306000000.0    936662225.0    2.065478e+09  \n",
       "4       300000000.0    678815482.0    2.044541e+09  "
      ],
      "text/html": "<div>\n<style scoped>\n    .dataframe tbody tr th:only-of-type {\n        vertical-align: middle;\n    }\n\n    .dataframe tbody tr th {\n        vertical-align: top;\n    }\n\n    .dataframe thead th {\n        text-align: right;\n    }\n</style>\n<table border=\"1\" class=\"dataframe\">\n  <thead>\n    <tr style=\"text-align: right;\">\n      <th></th>\n      <th>Rank</th>\n      <th>ReleaseDate</th>\n      <th>Movie</th>\n      <th>ProductionBudget</th>\n      <th>DomesticGross</th>\n      <th>WorldwideGross</th>\n    </tr>\n  </thead>\n  <tbody>\n    <tr>\n      <th>0</th>\n      <td>1</td>\n      <td>Apr 23, 2019</td>\n      <td>Avengers: Endgame</td>\n      <td>400000000.0</td>\n      <td>858373000.0</td>\n      <td>2.797801e+09</td>\n    </tr>\n    <tr>\n      <th>1</th>\n      <td>2</td>\n      <td>May 20, 2011</td>\n      <td>Pirates of the Caribbean: On Stranger Tides</td>\n      <td>379000000.0</td>\n      <td>241071802.0</td>\n      <td>1.045714e+09</td>\n    </tr>\n    <tr>\n      <th>2</th>\n      <td>3</td>\n      <td>Apr 22, 2015</td>\n      <td>Avengers: Age of Ultron</td>\n      <td>365000000.0</td>\n      <td>459005868.0</td>\n      <td>1.395317e+09</td>\n    </tr>\n    <tr>\n      <th>3</th>\n      <td>4</td>\n      <td>Dec 16, 2015</td>\n      <td>Star Wars Ep. VII: The Force Awakens</td>\n      <td>306000000.0</td>\n      <td>936662225.0</td>\n      <td>2.065478e+09</td>\n    </tr>\n    <tr>\n      <th>4</th>\n      <td>5</td>\n      <td>Apr 25, 2018</td>\n      <td>Avengers: Infinity War</td>\n      <td>300000000.0</td>\n      <td>678815482.0</td>\n      <td>2.044541e+09</td>\n    </tr>\n  </tbody>\n</table>\n</div>"
     },
     "metadata": {},
     "execution_count": 5
    }
   ],
   "source": [
    "df.head()"
   ]
  },
  {
   "cell_type": "code",
   "execution_count": 6,
   "metadata": {},
   "outputs": [],
   "source": [
    "df = df[(df[['DomesticGross','WorldwideGross']] != 0).all(axis=1)]"
   ]
  },
  {
   "cell_type": "code",
   "execution_count": 7,
   "metadata": {},
   "outputs": [],
   "source": [
    "df = df.drop(columns= ['Rank', 'ReleaseDate', 'Movie', 'DomesticGross'])"
   ]
  },
  {
   "cell_type": "code",
   "execution_count": 8,
   "metadata": {},
   "outputs": [],
   "source": [
    "df.to_csv('datasets/clean.csv', index= False)"
   ]
  }
 ]
}